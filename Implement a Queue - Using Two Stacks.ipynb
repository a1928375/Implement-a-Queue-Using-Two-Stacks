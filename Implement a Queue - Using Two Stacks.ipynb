{
 "cells": [
  {
   "cell_type": "markdown",
   "metadata": {},
   "source": [
    "# Mine\n",
    "# 一開始沒看懂題目 => 雖然一個stack就可以達成目的，但是題目要求2 stacks\n",
    "# 應該是說 \"一定要用2 stacks來形成queue\""
   ]
  },
  {
   "cell_type": "code",
   "execution_count": 5,
   "metadata": {},
   "outputs": [
    {
     "name": "stdout",
     "output_type": "stream",
     "text": [
      "4\n",
      "3\n",
      "2\n",
      "1\n",
      "0\n"
     ]
    }
   ],
   "source": [
    "class Queue2Stacks(object):\n",
    "    \n",
    "    def __init__(self):\n",
    "        self.stackin = []\n",
    "        self.stackout = []\n",
    "     \n",
    "    def enqueue(self,element):\n",
    "        \n",
    "        self.stackin.append(element)\n",
    "    \n",
    "    def dequeue(self):\n",
    "        \n",
    "        if self.stackout == []:\n",
    "            \n",
    "            self.stackout.append(self.stackin.pop())        #有沒有while loop都沒差，因為底下有for loop       \n",
    "        \n",
    "        return self.stackout.pop()      \n",
    "     \n",
    "        \n",
    "q = Queue2Stacks()\n",
    "\n",
    "for i in range(5):\n",
    "    q.enqueue(i)\n",
    "    \n",
    "for i in range(5):\n",
    "    print (q.dequeue())"
   ]
  },
  {
   "cell_type": "markdown",
   "metadata": {},
   "source": [
    "# Instructor"
   ]
  },
  {
   "cell_type": "code",
   "execution_count": null,
   "metadata": {},
   "outputs": [],
   "source": [
    "class Queue2Stacks(object):\n",
    "    \n",
    "    def __init__(self):\n",
    "        \n",
    "        # Two Stacks\n",
    "        self.instack = []\n",
    "        self.outstack = []\n",
    "     \n",
    "    def enqueue(self,element):\n",
    "        \n",
    "        # Add an enqueue with the \"IN\" stack\n",
    "        self.instack.append(element)\n",
    "    \n",
    "    def dequeue(self):\n",
    "        \n",
    "        if not self.outstack:\n",
    "            \n",
    "            while self.instack:\n",
    "                \n",
    "                # Add the elements to the outstack to reverse the order when called\n",
    "                self.outstack.append(self.instack.pop())\n",
    "                \n",
    "        return self.outstack.pop()  "
   ]
  }
 ],
 "metadata": {
  "kernelspec": {
   "display_name": "Python 3",
   "language": "python",
   "name": "python3"
  },
  "language_info": {
   "codemirror_mode": {
    "name": "ipython",
    "version": 3
   },
   "file_extension": ".py",
   "mimetype": "text/x-python",
   "name": "python",
   "nbconvert_exporter": "python",
   "pygments_lexer": "ipython3",
   "version": "3.7.3"
  }
 },
 "nbformat": 4,
 "nbformat_minor": 2
}
